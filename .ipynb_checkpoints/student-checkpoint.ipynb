{
 "cells": [
  {
   "cell_type": "markdown",
   "id": "b695b53f",
   "metadata": {},
   "source": [
    "![kimson-doan-NmVnsp13JYc-unsplash-min.jpg](./images/kimson-doan-NmVnsp13JYc-unsplash-min.jpg)"
   ]
  },
  {
   "cell_type": "markdown",
   "id": "f6e11768",
   "metadata": {},
   "source": [
    "# KINGS COUNTY HOUSING PROJECT\n",
    "## Author: Fred Mutuma"
   ]
  },
  {
   "cell_type": "markdown",
   "id": "747bf367",
   "metadata": {},
   "source": [
    "## Overview\n",
    "\n",
    "For this project, I used regression modeling to analyze house sales in a northwestern county.\n",
    "\n",
    "This project uses the King County House Sales dataset, which can be found in kc_house_data.csv in the data folder in this repo. The description of the column names can be found in column_names.md in the same folder."
   ]
  },
  {
   "cell_type": "markdown",
   "id": "dfff685c",
   "metadata": {},
   "source": [
    "## Business Problem\n",
    "\n",
    "I have had the King's County house selling records for the last few years. With the data, I want to build a model in which I can use the features in the data about the house to predict the price. In this case, I can guide both the seller and buyer to their business. The seller can use the model to predict the selling price of their house and if they need to do any renovation before selling their home. \n",
    "\n",
    "The buyer can have some suggestions about which kind of house they can afford based on their budget. \n",
    "\n",
    "The objectives set to achieve the final goal:：\n",
    "\n",
    "* Analyse and polish the data which have no meaning or is null to the price.\n",
    "* Remove the features which do not contribute to the house price.\n",
    "* Check if there are some high correlated features in which some of them can be removed.\n",
    "* Build the linear regression model.\n",
    "* Check how the features can contribute to the house change.\n"
   ]
  },
  {
   "cell_type": "markdown",
   "id": "541a1a29",
   "metadata": {},
   "source": [
    "## Data Understanding\n",
    "\n",
    "This project uses the King County House Sales dataset, which can be found in kc_house_data.csv in the data folder in this repo. The description of the column names can be found in column_names.md in the same folder. As with most real world data sets, the column names are not perfectly described, so you'll have to do some research or use your best judgment if you have questions about what the data means."
   ]
  },
  {
   "cell_type": "code",
   "execution_count": 1,
   "id": "8becb027",
   "metadata": {},
   "outputs": [],
   "source": [
    "#Importing the packages necessary for the project\n",
    "import pandas as pd\n",
    "import numpy as np \n",
    "import seaborn as sns\n",
    "import matplotlib.pyplot as plt\n",
    "import warnings\n",
    "warnings.filterwarnings(\"ignore\")"
   ]
  },
  {
   "cell_type": "markdown",
   "id": "a8fa5754",
   "metadata": {},
   "source": [
    "Import the dataset next to be used check its datatypes, dimensions etc."
   ]
  },
  {
   "cell_type": "code",
   "execution_count": 2,
   "id": "88debcfd",
   "metadata": {},
   "outputs": [
    {
     "name": "stdout",
     "output_type": "stream",
     "text": [
      "<class 'pandas.core.frame.DataFrame'>\n",
      "RangeIndex: 21597 entries, 0 to 21596\n",
      "Data columns (total 21 columns):\n",
      " #   Column         Non-Null Count  Dtype  \n",
      "---  ------         --------------  -----  \n",
      " 0   id             21597 non-null  int64  \n",
      " 1   date           21597 non-null  object \n",
      " 2   price          21597 non-null  float64\n",
      " 3   bedrooms       21597 non-null  int64  \n",
      " 4   bathrooms      21597 non-null  float64\n",
      " 5   sqft_living    21597 non-null  int64  \n",
      " 6   sqft_lot       21597 non-null  int64  \n",
      " 7   floors         21597 non-null  float64\n",
      " 8   waterfront     19221 non-null  float64\n",
      " 9   view           21534 non-null  float64\n",
      " 10  condition      21597 non-null  int64  \n",
      " 11  grade          21597 non-null  int64  \n",
      " 12  sqft_above     21597 non-null  int64  \n",
      " 13  sqft_basement  21597 non-null  object \n",
      " 14  yr_built       21597 non-null  int64  \n",
      " 15  yr_renovated   17755 non-null  float64\n",
      " 16  zipcode        21597 non-null  int64  \n",
      " 17  lat            21597 non-null  float64\n",
      " 18  long           21597 non-null  float64\n",
      " 19  sqft_living15  21597 non-null  int64  \n",
      " 20  sqft_lot15     21597 non-null  int64  \n",
      "dtypes: float64(8), int64(11), object(2)\n",
      "memory usage: 3.5+ MB\n"
     ]
    }
   ],
   "source": [
    "#Import the Dataset as a dataframe\n",
    "df = pd.read_csv('./data/kc_house_data.csv')\n",
    "df.info()"
   ]
  },
  {
   "cell_type": "code",
   "execution_count": null,
   "id": "3e863121",
   "metadata": {},
   "outputs": [],
   "source": [
    "# describe the Dataframe\n",
    "df.describe()"
   ]
  },
  {
   "cell_type": "code",
   "execution_count": null,
   "id": "968b1d38",
   "metadata": {},
   "outputs": [],
   "source": [
    "df.head()"
   ]
  },
  {
   "cell_type": "markdown",
   "id": "28dc8c82",
   "metadata": {},
   "source": [
    "I can now proceed to perfoming some Exploratory Data Analysis but befor that here is a list with a description of all column names."
   ]
  },
  {
   "cell_type": "markdown",
   "id": "52f58560",
   "metadata": {},
   "source": [
    "## Column Names and descriptions for Kings County Data Set\n",
    "\n",
    "* **id** - unique identified for a house\n",
    "* **dateDate** - house was sold\n",
    "* **pricePrice** -  is prediction target\n",
    "* **bedroomsNumber** -  of Bedrooms/House\n",
    "* **bathroomsNumber** -  of bathrooms/bedrooms\n",
    "* **sqft_livingsquare** -  footage of the home\n",
    "* **sqft_lotsquare** -  footage of the lot\n",
    "* **floorsTotal** -  floors (levels) in house\n",
    "* **waterfront** - House which has a view to a waterfront\n",
    "* **view** - Has been viewed\n",
    "* **condition** - How good the condition is ( Overall )\n",
    "* **grade** - overall grade given to the housing unit, based on King County grading system\n",
    "* **sqft_above** - square footage of house apart from basement\n",
    "* **sqft_basement** - square footage of the basement\n",
    "* **yr_built** - Built Year\n",
    "* **yr_renovated** - Year when house was renovated\n",
    "* **zipcode** - zip\n",
    "* **lat** - Latitude coordinate\n",
    "* **long** - Longitude coordinate\n",
    "* **sqft_living15** - The square footage of interior housing living space for the nearest 15 neighbors\n",
    "* **sqft_lot15** - The square footage of the land lots of the nearest 15 neighbors"
   ]
  },
  {
   "cell_type": "markdown",
   "id": "acf7fb8f",
   "metadata": {},
   "source": [
    "## Exploratory Data Analysis"
   ]
  },
  {
   "cell_type": "markdown",
   "id": "963ce0ec",
   "metadata": {},
   "source": [
    "After checking the dataframe's information we proceed to do some data cleaning and exploratory data an analysis."
   ]
  },
  {
   "cell_type": "markdown",
   "id": "12317e1b",
   "metadata": {},
   "source": [
    "### Drop Columns."
   ]
  },
  {
   "cell_type": "code",
   "execution_count": null,
   "id": "295ad712",
   "metadata": {},
   "outputs": [],
   "source": [
    "#1. Drop all columns that are unnecessary for the project.\n",
    "df = df.drop(['id', 'sqft_living15', 'sqft_lot15'], axis  = 1)\n",
    "df.columns"
   ]
  },
  {
   "cell_type": "markdown",
   "id": "6189d03c",
   "metadata": {},
   "source": [
    "### Change the Date format"
   ]
  },
  {
   "cell_type": "code",
   "execution_count": null,
   "id": "202502d3",
   "metadata": {},
   "outputs": [],
   "source": [
    "#2. Split month and year in the date column into two different columns.\n",
    "month = []\n",
    "year = []\n",
    "for date in df.date:\n",
    "    month.append(int(date.split('/')[0]))\n",
    "    year.append(int (date.split('/')[2]))\n",
    "df['month'] = month\n",
    "df['year'] = (year)\n",
    "df.head()"
   ]
  },
  {
   "cell_type": "code",
   "execution_count": null,
   "id": "2ae089a7",
   "metadata": {},
   "outputs": [],
   "source": [
    "#Drop the old date column\n",
    "df.drop('date', inplace = True, axis = 1)\n",
    "df.head()"
   ]
  },
  {
   "cell_type": "markdown",
   "id": "eed8d485",
   "metadata": {},
   "source": [
    "### Dealing with Null Values."
   ]
  },
  {
   "cell_type": "code",
   "execution_count": null,
   "id": "f075c66d",
   "metadata": {},
   "outputs": [],
   "source": [
    "#3. replace all null values with int 0\n",
    "df.fillna(value = 0, inplace=True)\n",
    "df.head()"
   ]
  },
  {
   "cell_type": "markdown",
   "id": "2b5d1c8f",
   "metadata": {},
   "source": [
    "### Include each property's age."
   ]
  },
  {
   "cell_type": "code",
   "execution_count": null,
   "id": "033ef8fa",
   "metadata": {},
   "outputs": [],
   "source": [
    "#4. Convert year built column with the property's age.\n",
    "\n",
    "df['age_sold'] = df['year'] - df['yr_built']\n",
    "df.head()"
   ]
  },
  {
   "cell_type": "markdown",
   "id": "12a2cc4b",
   "metadata": {},
   "source": [
    "### Converting Datatypes."
   ]
  },
  {
   "cell_type": "code",
   "execution_count": null,
   "id": "98224f59",
   "metadata": {},
   "outputs": [],
   "source": [
    "#5. Change column sqft_basement datatype into float\n",
    "\n",
    "df['sqft_basement'] = [float(x) if x != '?' else 0.0 for x in df['sqft_basement']]\n",
    "df.head()"
   ]
  },
  {
   "cell_type": "markdown",
   "id": "6f57e637",
   "metadata": {},
   "source": [
    "### New Columns with more useful data."
   ]
  },
  {
   "cell_type": "code",
   "execution_count": null,
   "id": "094ff950",
   "metadata": {},
   "outputs": [],
   "source": [
    "#6. Convert the yr_renovated to number of times renovated in the last 30 years\n",
    "#Two new columns to show number of renovations in the last 10, 20 & 30 years. \n",
    "# And another column with total number of renovations at the time of selling.\n",
    "df['is_renovated'] = [1  if x > 0 else 0 for x in df['yr_renovated']  ]\n",
    "df['renovated_age'] = df['year'] - df['yr_renovated']\n",
    "df['renovated_age2'] = [0 if x >1000 else x for x in df['renovated_age']]\n",
    "df['renovated_10'] = [1 if (x <10) & (x >0)  else 0 for x in df['renovated_age2']]\n",
    "df['renovated_30'] = [1 if (x <30) & (x >0) else 0 for x in df['renovated_age2']]\n",
    "df.head()"
   ]
  },
  {
   "cell_type": "code",
   "execution_count": null,
   "id": "77837a41",
   "metadata": {},
   "outputs": [],
   "source": [
    "# drop the latest unnecessary columns\n",
    "df.drop(['yr_renovated','yr_built', 'renovated_age'],axis = 1)"
   ]
  },
  {
   "cell_type": "markdown",
   "id": "85386d1a",
   "metadata": {},
   "source": [
    "### Trimming the Zipcode."
   ]
  },
  {
   "cell_type": "code",
   "execution_count": null,
   "id": "07e21892",
   "metadata": {},
   "outputs": [],
   "source": [
    "#7. Trim the zipcode to 4 digits.\n",
    "df.zipcode = [int(x/10) for x in df.zipcode ]"
   ]
  },
  {
   "cell_type": "markdown",
   "id": "07bd5dc5",
   "metadata": {},
   "source": [
    "### Identify and deal with Outliers."
   ]
  },
  {
   "cell_type": "code",
   "execution_count": null,
   "id": "6ea35acd",
   "metadata": {},
   "outputs": [],
   "source": [
    "# First, explore the number of unique characters in each column.\n",
    "# This is to help with identifying outliers and remove them.\n",
    "df.nunique(axis = 0)"
   ]
  },
  {
   "cell_type": "code",
   "execution_count": null,
   "id": "e6b3bc97",
   "metadata": {},
   "outputs": [],
   "source": [
    "#plot the columns with more than single digits count.\n",
    "fig, axs = plt.subplots(2,5, figsize = (15,6))\n",
    "plt1 = sns.boxplot(df['price'], ax = axs[0,0])\n",
    "plt2 = sns.boxplot(df['bedrooms'], ax = axs[0,1])\n",
    "plt3 = sns.boxplot(df['bathrooms'], ax = axs[0,2])\n",
    "plt4 = sns.boxplot(df['sqft_living'], ax = axs[0,3])\n",
    "plt5 = sns.boxplot(df['sqft_lot'], ax = axs[0,4])\n",
    "plt1 = sns.boxplot(df['floors'], ax = axs[1,0])\n",
    "plt2 = sns.boxplot(df['sqft_above'], ax = axs[1,1])\n",
    "plt3 = sns.boxplot(df['sqft_basement'], ax = axs[1,2])\n",
    "plt4 = sns.boxplot(df['age_sold'], ax = axs[1,3])\n",
    "plt4 = sns.boxplot(df['lat'])\n",
    "plt4 = sns.boxplot(df['long'])\n",
    "plt.savefig('./images/fig1.png')"
   ]
  },
  {
   "cell_type": "code",
   "execution_count": null,
   "id": "abb028e3",
   "metadata": {},
   "outputs": [],
   "source": [
    "#One can identify outliers from the boxplots above\n",
    "#The above figures show that there are multipal columns contain some outlier data. \n",
    "#I then collected all the columns and remove them \n",
    "to_modify = ['price', 'bedrooms', 'bathrooms', 'sqft_living', 'sqft_lot','sqft_above','sqft_basement', 'lat', 'long']\n",
    "for col in to_modify:\n",
    "    Q1 = df[col].quantile(0.25)\n",
    "    Q3 = df[col].quantile(0.75)\n",
    "    IQR = Q3 - Q1\n",
    "    df = df[(df[col] >= Q1 - 1.5*IQR) & (df[col] <= Q3 + 1.5*IQR)]"
   ]
  },
  {
   "cell_type": "code",
   "execution_count": null,
   "id": "c5e10f1e",
   "metadata": {},
   "outputs": [],
   "source": [
    "#Plot them again to check the results\n",
    "# check the data after modification\n",
    "fig, axs = plt.subplots(2,5, figsize = (15,6))\n",
    "plt1 = sns.boxplot(df['price'], ax = axs[0,0])\n",
    "plt2 = sns.boxplot(df['bedrooms'], ax = axs[0,1])\n",
    "plt3 = sns.boxplot(df['bathrooms'], ax = axs[0,2])\n",
    "plt4 = sns.boxplot(df['sqft_living'], ax = axs[0,3])\n",
    "plt5 = sns.boxplot(df['sqft_lot'], ax = axs[0,4])\n",
    "plt1 = sns.boxplot(df['floors'], ax = axs[1,0])\n",
    "plt2 = sns.boxplot(df['sqft_above'], ax = axs[1,1])\n",
    "plt3 = sns.boxplot(df['sqft_basement'], ax = axs[1,2])\n",
    "plt4 = sns.boxplot(df['age_sold'], ax = axs[1,3])\n",
    "plt4 = sns.boxplot(df['lat'])\n",
    "plt4 = sns.boxplot(df['long'])\n",
    "plt.savefig('./images/fig2.png')"
   ]
  },
  {
   "cell_type": "markdown",
   "id": "401ff1d2",
   "metadata": {},
   "source": [
    "### Relationship Between Price and other Columns."
   ]
  },
  {
   "cell_type": "code",
   "execution_count": null,
   "id": "95a1d910",
   "metadata": {},
   "outputs": [],
   "source": [
    "#  In order to check the relationship between the price with most of the columns with few unique numbers, \n",
    "# I plot their relations in seperate  boxplot figures.\n",
    "plt.figure(figsize=(20, 12))\n",
    "plt.subplot(4,3,1)\n",
    "sns.boxplot(x = 'bedrooms', y = 'price', data = df)\n",
    "plt.subplot(4,3,2)\n",
    "sns.boxplot(x = 'floors', y = 'price', data = df)\n",
    "plt.subplot(4,3,3)\n",
    "sns.boxplot(x = 'waterfront', y = 'price', data = df)\n",
    "plt.subplot(4,3,4)\n",
    "sns.boxplot(x = 'view', y = 'price', data = df)\n",
    "plt.subplot(4,3,5)\n",
    "sns.boxplot(x = 'condition', y = 'price', data = df)\n",
    "plt.subplot(4,3,6)\n",
    "sns.boxplot(x = 'grade', y = 'price', data = df)\n",
    "plt.subplot(4,3,7)\n",
    "\n",
    "sns.boxplot(x = 'is_renovated', y = 'price', data = df)\n",
    "plt.subplot(4,3,8)\n",
    "sns.boxplot(x = 'renovated_10', y = 'price', data = df)\n",
    "plt.subplot(4,3,9)\n",
    "sns.boxplot(x = 'renovated_30', y = 'price', data = df)\n",
    "plt.subplot(4,3,10)\n",
    "sns.boxplot(x = 'bathrooms', y = 'price', data = df)\n",
    "plt.subplot(4,3,11)\n",
    "\n",
    "sns.boxplot(x = 'month', y = 'price', data = df)\n",
    "plt.show()\n",
    "plt.savefig('./images/fig3.png')"
   ]
  },
  {
   "cell_type": "markdown",
   "id": "ef42b6ea",
   "metadata": {},
   "source": [
    "You can noew clearly see the distribution of prices within different features in the dataset."
   ]
  },
  {
   "cell_type": "markdown",
   "id": "f6ef6749",
   "metadata": {},
   "source": [
    "### Correlation."
   ]
  },
  {
   "cell_type": "code",
   "execution_count": null,
   "id": "be6b39cd",
   "metadata": {},
   "outputs": [],
   "source": [
    "#check unique values again\n",
    "df.nunique()"
   ]
  },
  {
   "cell_type": "code",
   "execution_count": null,
   "id": "fcd51d32",
   "metadata": {},
   "outputs": [],
   "source": [
    "#I filtered the features and find the pair of features with correlation value between 0.75 and 1.\n",
    "# I tested the pairs of feature with correlation more than 0.75.\n",
    "df_corr = df.corr().abs().stack().reset_index().sort_values(0, ascending = False)\n",
    "df_corr['pairs'] = list(zip(df_corr.level_0, df_corr.level_1))\n",
    "df_corr.set_index(['pairs'], inplace = True)\n",
    "df_corr.drop(columns = ['level_0', \"level_1\"], inplace  = True)\n",
    "df_corr.columns = ['cc']\n",
    "df_corr.drop_duplicates(inplace = True)\n",
    "df_corr[(df_corr.cc>.75) & (df_corr.cc<1)]"
   ]
  },
  {
   "cell_type": "code",
   "execution_count": null,
   "id": "b5194693",
   "metadata": {},
   "outputs": [],
   "source": [
    "#I need to remove at least one of the features in each pair. \n",
    "#Comparing the last list, I decided to delete the columns sqft_above, renovated_30, year.\n",
    "\n",
    "df.drop([ 'sqft_above', 'renovated_30',  'year', 'yr_renovated','yr_built', 'renovated_age'], axis  = 1, inplace = True )\n",
    "df.head()"
   ]
  },
  {
   "cell_type": "markdown",
   "id": "2a14f698",
   "metadata": {},
   "source": [
    "### Columns with few Unique Values."
   ]
  },
  {
   "cell_type": "code",
   "execution_count": null,
   "id": "ba8e57d4",
   "metadata": {},
   "outputs": [],
   "source": [
    "# check number of unique values in each column.\n",
    "df.nunique()"
   ]
  },
  {
   "cell_type": "code",
   "execution_count": null,
   "id": "b1e1a818",
   "metadata": {},
   "outputs": [],
   "source": [
    "# Modify columns with  a few unique records.\n",
    "mod = ['bedrooms','bathrooms', 'floors' ,'view','condition','grade', 'zipcode','month',]\n",
    "df_two = pd.DataFrame()\n",
    "for col in mod:\n",
    "    df_two = pd.concat([df_two, pd.get_dummies(df[col], prefix = col)], axis = 1)\n",
    "df_two.head()"
   ]
  },
  {
   "cell_type": "code",
   "execution_count": null,
   "id": "15e94c7d",
   "metadata": {},
   "outputs": [],
   "source": [
    "#For the columns with only 2 unique numbers, I did the drop_first when using dummies.\n",
    "mod_2 = ['waterfront','is_renovated','renovated_10']\n",
    "df_three = pd.DataFrame()\n",
    "for col in mod_2:\n",
    "    df_three = pd.concat([df_three, pd.get_dummies(df[col], prefix = col, drop_first=True)], axis = 1)\n",
    "df_three.head()"
   ]
  },
  {
   "cell_type": "code",
   "execution_count": null,
   "id": "3218cd94",
   "metadata": {},
   "outputs": [],
   "source": [
    "# I then dropped the catalized columns and concat the new features.\n",
    "df = df.drop(mod, axis  = 1 )\n",
    "df = df.drop(mod_2, axis  = 1 )\n",
    "df = pd.concat([df, df_two, df_three], axis = 1)\n",
    "df.head()"
   ]
  },
  {
   "cell_type": "markdown",
   "id": "f8b36ddc",
   "metadata": {},
   "source": [
    "## Regression.\n",
    "\n",
    "I am now done with the EDA part. Now I can proceed to split the data to trainning and testing parts to do the fitting.\n"
   ]
  },
  {
   "cell_type": "code",
   "execution_count": null,
   "id": "1990d825",
   "metadata": {},
   "outputs": [],
   "source": [
    "#split the data to training and testing part\n",
    "from sklearn.model_selection import train_test_split\n",
    "y = df['price']\n",
    "X = df.drop('price', axis  = 1)\n",
    "X_train, X_test, y_train, y_test = train_test_split(X, y, random_state=42)\n",
    "print(len(X_train), len(X_test), len(y_train), len(y_test))"
   ]
  },
  {
   "cell_type": "markdown",
   "id": "36dad21c",
   "metadata": {},
   "source": [
    "Then, proceed to build a regression model.\n",
    "\n",
    "### Build a Model with All Numeric Features."
   ]
  },
  {
   "cell_type": "code",
   "execution_count": null,
   "id": "c828bd77",
   "metadata": {},
   "outputs": [],
   "source": [
    "from sklearn.linear_model import LinearRegression\n",
    "from sklearn.model_selection import cross_validate, ShuffleSplit\n",
    "\n",
    "baseline_model = LinearRegression()\n",
    "\n",
    "\n",
    "splitter = ShuffleSplit(n_splits=3, test_size=0.25, random_state=0)\n",
    "model = LinearRegression()\n",
    "\n",
    "model_scores = cross_validate(\n",
    "    estimator=model,\n",
    "    X=X_train,\n",
    "    y=y_train,\n",
    "    return_train_score=True,\n",
    "    cv=splitter\n",
    ")\n",
    "\n",
    "print(\"Current Model\")\n",
    "print(\"Train score:     \", model_scores[\"train_score\"].mean())\n",
    "print(\"Validation score:\", model_scores[\"test_score\"].mean())\n",
    "print()"
   ]
  },
  {
   "cell_type": "markdown",
   "id": "a2d45979",
   "metadata": {},
   "source": [
    "The model got good scores on the training data, and better scores on the validation data. However, I still want to continue to check how each feature work in general. Then I choose to check the coef value of the regression."
   ]
  },
  {
   "cell_type": "markdown",
   "id": "6d21f286",
   "metadata": {},
   "source": [
    "### Select the Best Combination of Features.\n",
    "\n",
    "Since there is a lot of features, I tried to check if there is some features can be removed. Then, I tried to selecting Features with sklearn.feature_selection."
   ]
  },
  {
   "cell_type": "code",
   "execution_count": null,
   "id": "6b96b75c",
   "metadata": {},
   "outputs": [],
   "source": [
    "from sklearn.feature_selection import RFECV\n",
    "from sklearn.preprocessing import StandardScaler\n",
    "\n",
    "# Importances are based on coefficient magnitude, so\n",
    "# we need to scale the data to normalize the coefficients\n",
    "X_train_for_RFECV = StandardScaler().fit_transform(X_train)\n",
    "\n",
    "model_for_RFECV = LinearRegression()\n",
    "\n",
    "# Instantiate and fit the selector\n",
    "selector = RFECV(model_for_RFECV, cv=splitter)\n",
    "selector.fit(X_train_for_RFECV, y_train)\n",
    "\n",
    "# Print the results\n",
    "print(\"Was the column selected?\")\n",
    "for index, col in enumerate(X_train.columns):\n",
    "    print(f\"{col}: {selector.support_[index]}\")"
   ]
  },
  {
   "cell_type": "markdown",
   "id": "720fb121",
   "metadata": {},
   "source": [
    "From the results, all columns will be necesary for regression."
   ]
  },
  {
   "cell_type": "markdown",
   "id": "27b83316",
   "metadata": {},
   "source": [
    "### Linear Regression with OLS."
   ]
  },
  {
   "cell_type": "code",
   "execution_count": null,
   "id": "27b1033f",
   "metadata": {},
   "outputs": [],
   "source": [
    "#linear rgression with OlS.\n",
    "import statsmodels.api as sm\n",
    "\n",
    "sm.OLS(y_train, sm.add_constant(X_train)).fit().summary()"
   ]
  },
  {
   "cell_type": "markdown",
   "id": "5f842725",
   "metadata": {},
   "source": [
    "### Results.\n",
    "\n",
    "The Coefficient of all the features show how each of the feature affect the house price. Briefly, for the house size, the sqft_living had value 114.5637 which suggests that increasing 1 sqrt of living area, the house pirce will increase $116.56. \n",
    "\n",
    "However, the sqft_lot and sqft_basement had negtive correlation to the house price even though the correlation value is very low compare to sqft_living. The number of bedrooms had negtive negtive correlation to the house price. \n",
    "\n",
    "More bathrooms, floors, views and conditions will increase the house price in general. Grades increase the house price a lot each level though still negative. To the zipcode, the house in some area is much higer than others. The house price in month February to July is obviously higher than other months. If there is a waterfront, the house price will increase by 161000. If the house is renovated, the house price can increasing around 72000. If the renovated is within 10 years, the house price can increase around 169000."
   ]
  },
  {
   "cell_type": "markdown",
   "id": "5cbd3a89",
   "metadata": {},
   "source": [
    "## Validate the final model."
   ]
  },
  {
   "cell_type": "code",
   "execution_count": null,
   "id": "73710dc7",
   "metadata": {},
   "outputs": [],
   "source": [
    "# Base on the train score and validation score, the best columns until now is the third model. \n",
    "\n",
    "X_train_final = X_train\n",
    "X_test_final = X_test\n",
    "\n",
    "final_model = LinearRegression()\n",
    "\n",
    "# Fit the model on X_train_final and y_train\n",
    "final_model.fit(X_train_final, y_train)\n",
    "\n",
    "# Score the model on X_test_final and y_test\n",
    "# (use the built-in .score method)\n",
    "final_model.score(X_test_final, y_test)"
   ]
  },
  {
   "cell_type": "code",
   "execution_count": null,
   "id": "f29ef3f0",
   "metadata": {},
   "outputs": [],
   "source": [
    "import statsmodels.api as sm\n",
    "\n",
    "sm.OLS(y_train, sm.add_constant(X_train)).fit().summary()\n"
   ]
  },
  {
   "cell_type": "markdown",
   "id": "0ad38885",
   "metadata": {},
   "source": [
    "The coefficients of the selected features shows that the sqft_living is the most important features which affected the house price since the sqft_living is normally more than 1000. Both sqft_lot and sqft_basement columns are least affected given that they are negtive numbers too. The effect of grade on the house is very big also. Also, if the house is renovated within 10 years, the price will increase by around 17000 dollars. If there is a waterfront, the price of the house will increase dramtically with 161690 dollars.\n"
   ]
  },
  {
   "cell_type": "markdown",
   "id": "f475f860",
   "metadata": {},
   "source": [
    "### Importing the MSE to Check the MSE Value."
   ]
  },
  {
   "cell_type": "code",
   "execution_count": null,
   "id": "6cb1817c",
   "metadata": {},
   "outputs": [],
   "source": [
    "# import the mean_squared_error to check the mean_squared_error value\n",
    "from sklearn.metrics import mean_squared_error\n",
    "\n",
    "mean_squared_error(y_test, final_model.predict(X_test_final), squared=False)"
   ]
  },
  {
   "cell_type": "code",
   "execution_count": null,
   "id": "5ea7b231",
   "metadata": {},
   "outputs": [],
   "source": [
    "#check the distribution of price in test data\n",
    "y_test.hist(bins = 100)\n",
    "y_test.mean()\n",
    "plt.savefig('./images/fig4.png')"
   ]
  },
  {
   "cell_type": "markdown",
   "id": "07c0835d",
   "metadata": {},
   "source": [
    "The mse value is 102976. The mean of the price is 452593.\n",
    "\n",
    "This means that for an average house price, this algorithm will be off by about $102976 thousands. Given that the mean value of house price is $452593, the algorithm can patially set the price. However, we still want to have a validation and adjust these prices rather than just allowing the algorithm to set them."
   ]
  },
  {
   "cell_type": "markdown",
   "id": "cf21296c",
   "metadata": {},
   "source": [
    "### The validation."
   ]
  },
  {
   "cell_type": "code",
   "execution_count": null,
   "id": "9451e8c2",
   "metadata": {},
   "outputs": [],
   "source": [
    "# For the validation, I first plot the scatter plot of Predicted Price vs the Actual Price\n",
    "preds = final_model.predict(X_test_final)\n",
    "fig, ax = plt.subplots(figsize =(5,5))\n",
    "\n",
    "perfect_line = np.arange(y_test.min(), y_test.max())\n",
    "\n",
    "ax.plot(perfect_line,perfect_line, linestyle=\"--\", color=\"black\", label=\"Perfect Fit\")\n",
    "ax.scatter(y_test, preds, alpha=0.5)\n",
    "ax.set_xlabel(\"Actual Price\")\n",
    "ax.set_ylabel(\"Predicted Price\")\n",
    "ax.legend();\n",
    "plt.savefig('./images/fig5.png')"
   ]
  },
  {
   "cell_type": "markdown",
   "id": "2e6a57fd",
   "metadata": {},
   "source": [
    "###  qqplot."
   ]
  },
  {
   "cell_type": "code",
   "execution_count": null,
   "id": "2557bfcf",
   "metadata": {},
   "outputs": [],
   "source": [
    "#test the residuals by qqplot\n",
    "import scipy.stats as stats\n",
    "residuals = (y_test - preds)\n",
    "sm.graphics.qqplot(residuals, dist=stats.norm, line='45', fit=True);\n",
    "plt.savefig('./images/fig6.png')"
   ]
  },
  {
   "cell_type": "code",
   "execution_count": null,
   "id": "0ebdee07",
   "metadata": {},
   "outputs": [],
   "source": [
    "fig, ax = plt.subplots()\n",
    "\n",
    "ax.scatter(preds, residuals, alpha=0.5)\n",
    "ax.plot(preds, [0 for i in range(len(X_test))])\n",
    "ax.set_xlabel(\"Predicted Value\")\n",
    "ax.set_ylabel(\"Actual - Predicted Value\");\n",
    "plt.savefig('./images/fig7.png')"
   ]
  },
  {
   "cell_type": "markdown",
   "id": "ea3a95d5",
   "metadata": {},
   "source": [
    "The validation of prediction and real data shows that the prediction price for most house whose price is low (20% - 40% of the max price) is close to the real price. \n",
    "The qqplot shows that the house price is well predicted when the house price is not very high. However, for the high value price house, the prediction is not very acturate. There is a lot of shift of prediction price when the house value increase especialy when house price is more than 200000.\n"
   ]
  },
  {
   "cell_type": "markdown",
   "id": "63602c83",
   "metadata": {},
   "source": [
    "## Conclusion.\n",
    "\n",
    "The Coefficient of all the features show how each of the feature affect the house price. Briefly, for the house size, the sqft_living had value 116.5640\t which suggests that increasing 1 sqrt of living area, the house pirce will increase 116 dollars. However, the sqft_lot and sqft_basement had negtive correlation to the house price even though the correlation value is very low compare to sqft_living. The number of bedrooms had negtive negtive correlation to the house price. More bathrooms, floors, views and conditions will increase the house price in general. Grades increase the house price a lot each level though still negative. To the zipcode, the house in some area is much higer than others. The house price in month February to July is obviously higher than other months. If there is a waterfront, the house price will increase by 161000. If the house is renovated, the house price can increasing around 72000. If the renovated is within 10 years, the house price can increase around 169000.\n",
    "\n",
    "## Recommendation.\n",
    "To the buyer, We had our prediction model which can predict the house price and give buyer some suggestion about the price they want. However, the predicted house price is higher than the selling price when the price is over 750000. To the seller, our model give them some suggestion how to increase the potential selling value. For example, they can try to renovate the house and make water front if possible and increas the grade of the house."
   ]
  },
  {
   "cell_type": "code",
   "execution_count": null,
   "id": "6702cba6",
   "metadata": {},
   "outputs": [],
   "source": []
  }
 ],
 "metadata": {
  "kernelspec": {
   "display_name": "Python 3 (ipykernel)",
   "language": "python",
   "name": "python3"
  },
  "language_info": {
   "codemirror_mode": {
    "name": "ipython",
    "version": 3
   },
   "file_extension": ".py",
   "mimetype": "text/x-python",
   "name": "python",
   "nbconvert_exporter": "python",
   "pygments_lexer": "ipython3",
   "version": "3.9.7"
  }
 },
 "nbformat": 4,
 "nbformat_minor": 5
}
